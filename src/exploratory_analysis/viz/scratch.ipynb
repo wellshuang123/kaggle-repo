{
 "cells": [
  {
   "cell_type": "code",
   "execution_count": 1,
   "metadata": {},
   "outputs": [],
   "source": [
    "import os\n",
    "from matplotlib import pyplot as plt\n",
    "from tifffile import imread"
   ]
  },
  {
   "cell_type": "code",
   "execution_count": 4,
   "metadata": {},
   "outputs": [
    {
     "data": {
      "application/vnd.jupyter.widget-view+json": {
       "model_id": "2a07da9d98034c579d93e97819f1f5cc",
       "version_major": 2,
       "version_minor": 0
      },
      "text/plain": [
       "interactive(children=(IntSlider(value=1500, description='num', max=2000, min=1000, step=25), Output()), _dom_c…"
      ]
     },
     "metadata": {},
     "output_type": "display_data"
    }
   ],
   "source": [
    "from ipywidgets import interact\n",
    "\n",
    "data_folder = \"/ad/eng/research/eng_research_cisl/jalido/kaggle/vessel_segmentatio/train\"\n",
    "organ = \"kidney_1_dense\"\n",
    "path_template = os.path.join(data_folder, organ, \"images\", \"{}.tif\")\n",
    "\n",
    "@interact(num=(1000, 2000,25))\n",
    "def display_image(num):\n",
    "    path = path_template.format(num)\n",
    "    img = imread(path)\n",
    "    plt.imshow(img)\n",
    "    plt.show()\n",
    "\n",
    "        "
   ]
  }
 ],
 "metadata": {
  "kernelspec": {
   "display_name": "Python 3",
   "language": "python",
   "name": "python3"
  },
  "language_info": {
   "codemirror_mode": {
    "name": "ipython",
    "version": 3
   },
   "file_extension": ".py",
   "mimetype": "text/x-python",
   "name": "python",
   "nbconvert_exporter": "python",
   "pygments_lexer": "ipython3",
   "version": "3.11.5"
  }
 },
 "nbformat": 4,
 "nbformat_minor": 2
}
